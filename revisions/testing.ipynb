{
 "cells": [
  {
   "cell_type": "code",
   "execution_count": 8,
   "id": "a16ca982-e4f5-4fef-818a-cca37cc70bbb",
   "metadata": {},
   "outputs": [
    {
     "data": {
      "text/plain": [
       "'ipykernel_launcher.py'"
      ]
     },
     "execution_count": 8,
     "metadata": {},
     "output_type": "execute_result"
    }
   ],
   "source": [
    "## OMtopogen/create_topog_refinedSampling.py --hgridfilename grid-files/gridFile.nc --outputfilename topog_SO_p25.nc --source_file grid-files/GEBCO_2020.nc --source_lon lon --source_lat lat --source_elv elevation\n",
    "\n",
    "import socket\n",
    "import time\n",
    "import sys \n",
    "import sys, getopt\n",
    "import datetime, os, subprocess\n",
    "import imp\n",
    "import netCDF4\n",
    "import numpy as np\n",
    "\n",
    "# host is 'james-imac'\n",
    "host = str(socket.gethostname())\n",
    "\n",
    "\n",
    "scriptpath = \"files/gridFile.nc\"\n",
    "scriptpath = sys.argv[0]\n",
    "scriptbasename = subprocess.check_output(\"basename \"+ scriptpath,shell=True).decode('ascii').rstrip(\"\\n\")\n",
    "scriptdirname = subprocess.check_output(\"dirname \"+ scriptpath,shell=True).decode('ascii').rstrip(\"\\n\")\n",
    "scriptbasename"
   ]
  },
  {
   "cell_type": "code",
   "execution_count": null,
   "id": "459e89da-e256-4d3a-af6c-cf95ed514675",
   "metadata": {},
   "outputs": [],
   "source": []
  },
  {
   "cell_type": "code",
   "execution_count": 18,
   "id": "b015f5f9-d469-465f-ab8a-faae3b92dd22",
   "metadata": {},
   "outputs": [
    {
     "name": "stdout",
     "output_type": "stream",
     "text": [
      "\n",
      "Generatin model topography for target grid  /Users/james/Documents/Github/ocean_model_topog_generator/grid-files/gridFile.nc\n"
     ]
    },
    {
     "data": {
      "text/plain": [
       "'/Users/james/opt/anaconda3/envs/gridTools/lib/python3.9/site-packages/ipykernel_launcher.py had git hash fatal: not a git repository (or any of the parent directories): .gitfatal: not a git repository (or any of the parent directories): .git. To obtain the grid generating code do: git clone  https://github.com/nikizadehgfdl/ocean_model_topog_generator.git ; cd ocean_model_topog_generator;  git checkout fatal: not a git repository (or any of the parent directories): .git'"
      ]
     },
     "execution_count": 18,
     "metadata": {},
     "output_type": "execute_result"
    }
   ],
   "source": [
    "plotem = False\n",
    "open_channels = False\n",
    "no_changing_meta = False\n",
    "\n",
    "\"\"\"\n",
    "\n",
    "# URL of topographic data, names of longitude, latitude and elevation variables\n",
    "url,vx,vy,ve = '/work/Niki.Zadeh/datasets/topography/GEBCO_2014_2D.nc','lon','lat','elevation'\n",
    "# url,vx,vy,ve = 'http://thredds.socib.es/thredds/dodsC/ancillary_data/bathymetry/MED_GEBCO_30sec.nc','lon','lat','elevation'\n",
    "# url,vx,vy,ve = 'http://iridl.ldeo.columbia.edu/SOURCES/.NOAA/.NGDC/.ETOPO1/.z_bedrock/dods','lon','lat','z_bedrock'\n",
    "try:\n",
    "    opts, args = getopt.getopt(sys.argv[1:],\"hi:o:\",[\"hgridfilename=\",\"outputfilename=\",\"no_changing_meta\",\"open_channels\",\"source_file=\",\"source_lon=\",\"source_lat=\",\"source_elv=\"])\n",
    "except getopt.GetoptError as err:\n",
    "    print(err)\n",
    "    usage(scriptbasename)\n",
    "    sys.exit(2)\n",
    "\n",
    "\n",
    "for opt, arg in opts:\n",
    "    if opt == '-h':\n",
    "        usage()\n",
    "        sys.exit()\n",
    "    elif opt in (\"-i\", \"--hgridfilename\"):\n",
    "        gridfilename = arg\n",
    "    elif opt in (\"-o\", \"--outputfilename\"):\n",
    "        outputfilename = arg\n",
    "    elif opt in (\"--source_file\"):\n",
    "        url = arg\n",
    "    elif opt in (\"--source_lon\"):\n",
    "        vx = arg\n",
    "    elif opt in (\"--source_lat\"):\n",
    "        vy = arg\n",
    "    elif opt in (\"--source_elv\"):\n",
    "        ve = arg\n",
    "    elif opt in (\"--plot\"):\n",
    "        plotem = True\n",
    "    elif opt in (\"--no_changing_meta\"):\n",
    "        no_changing_meta = True\n",
    "    elif opt in (\"--open_channels\"):\n",
    "        open_channels = True\n",
    "    else:\n",
    "        assert False, \"unhandled option\"\n",
    "\"\"\"\n",
    "\n",
    "        \n",
    "        ## OMtopogen/create_topog_refinedSampling.py --hgridfilename files/gridFile.nc --outputfilename topog_SO_p25.nc --source_file files/GEBCO_2020.nc --source_lon lon --source_lat lat --source_elv elevation\n",
    "\n",
    "# adding what would be arguments read in above\n",
    "gridfilename = \"/Users/james/Documents/Github/ocean_model_topog_generator/grid-files/gridFile.nc\"\n",
    "outputfilename = \"/Users/james/Documents/Github/ocean_model_topog_generator/topog_SO_p25.nc\"\n",
    "url = \"/Users/james/Documents/Github/ocean_model_topog_generator/grid-files/GEBCO_2020.nc\"\n",
    "vx = \"lon\"\n",
    "vy = \"lat\"\n",
    "ve = \"elevation\"\n",
    "\n",
    "print(\"\")\n",
    "print(\"Generatin model topography for target grid \", gridfilename)\n",
    "#Information to write in file as metadata\n",
    "scriptgithash = subprocess.check_output(\"cd \"+scriptdirname +\";git rev-parse HEAD; exit 0\",stderr=subprocess.STDOUT,shell=True).decode('ascii').rstrip(\"\\n\")\n",
    "scriptgitMod  = subprocess.check_output(\"cd \"+scriptdirname +\";git status --porcelain \"+scriptbasename+\" | awk '{print $1}' ; exit 0\",stderr=subprocess.STDOUT,shell=True).decode('ascii').rstrip(\"\\n\")\n",
    "if(\"M\" in str(scriptgitMod)):\n",
    "    scriptgitMod = \" , But was localy Modified!\"\n",
    "\n",
    "hist = \"This file was generated via command \" + ' '.join(sys.argv)\n",
    "if(not no_changing_meta):\n",
    "    hist = hist + \" on \"+ str(datetime.date.today()) + \" on platform \"+ host\n",
    "\n",
    "desc = \"This is a model topography file generated by the refine-sampling method from source topography. \"\n",
    "\n",
    "source =\"\"\n",
    "if(not no_changing_meta):\n",
    "    source =  source + scriptpath + \" had git hash \" + scriptgithash + scriptgitMod \n",
    "    source =  source + \". To obtain the grid generating code do: git clone  https://github.com/nikizadehgfdl/ocean_model_topog_generator.git ; cd ocean_model_topog_generator;  git checkout \"+scriptgithash\n",
    "source"
   ]
  },
  {
   "cell_type": "code",
   "execution_count": 20,
   "id": "d0c8e3bf-3c30-4967-b0d5-75342e7177ca",
   "metadata": {},
   "outputs": [
    {
     "data": {
      "text/plain": [
       "array([[ 2829,  2829,  2829, ...,  2829,  2829,  2829],\n",
       "       [ 2830,  2830,  2830, ...,  2830,  2830,  2830],\n",
       "       [ 2831,  2831,  2831, ...,  2831,  2831,  2831],\n",
       "       ...,\n",
       "       [-4221, -4221, -4221, ..., -4221, -4221, -4221],\n",
       "       [-4223, -4223, -4223, ..., -4223, -4223, -4223],\n",
       "       [-4227, -4227, -4227, ..., -4227, -4227, -4227]], dtype=int16)"
      ]
     },
     "execution_count": 20,
     "metadata": {},
     "output_type": "execute_result"
    }
   ],
   "source": [
    "\n",
    "#Time it\n",
    "tic = time.perf_counter()\n",
    "# # Open and read the topographic dataset\n",
    "# Open a topography dataset, check that the topography is on a uniform grid.\n",
    "topo_data = netCDF4.Dataset(url)\n",
    "\n",
    "# Read coordinates of topography\n",
    "topo_lons = np.array( topo_data.variables[vx][:] )\n",
    "topo_lats = np.array( topo_data.variables[vy][:] )\n",
    "topo_elvs = np.array( topo_data.variables[ve][:,:] )\n",
    "\n",
    "topo_elvs\n"
   ]
  },
  {
   "cell_type": "code",
   "execution_count": null,
   "id": "fa5dc949-54f3-49a3-9115-1504b820f41f",
   "metadata": {},
   "outputs": [],
   "source": [
    "\n",
    "#Fix the topography to open some channels\n",
    "if(open_channels):\n",
    "    #Bosporus mouth at Marmara Sea (29.03,41.04)\n",
    "    j0,i0=15724,39483 #get_indices1D(topo_lons, topo_lats ,29.03, 41.04)\n",
    "    #One grid cell thick (not survived ice9)\n",
    "    #topo_elvs[j0,i0]=topo_elvs[j0,i0-1]\n",
    "    #topo_elvs[j0+1,i0+2]=topo_elvs[j0+1,i0+1]\n",
    "    #topo_elvs[j0+3,i0+3]=topo_elvs[j0+3,i0+2]\n",
    "    #wide channel\n",
    "    j2,i2=15756, 39492 #get_indices1D(topo_lons, topo_lats ,29.1, 41.3)\n",
    "    topo_elvs[j0-10:j2,i0-10:i2+10]=topo_elvs[j0,i0-1]\n",
    "\n",
    "    #Dardanells' constrict\n",
    "    j1,i1=15616, 39166 #get_indices1D(topo_lons, topo_lats ,26.39, 40.14)\n",
    "    topo_elvs[j1+1,i1]=topo_elvs[j1,i1]\n",
    "#Read a target grid\n",
    "targ_grid =  netCDF4.Dataset(gridfilename)\n",
    "targ_lon = np.array(targ_grid.variables['x'])\n",
    "targ_lat = np.array(targ_grid.variables['y'])\n",
    "#x and y have shape (nyp,nxp). Topog does not need the last col for global grids (period in x).\n",
    "targ_lon = targ_lon[:,:-1]\n",
    "targ_lat = targ_lat[:,:-1]\n",
    "print(\" Target mesh shape: \",targ_lon.shape)\n",
    "\n"
   ]
  },
  {
   "cell_type": "code",
   "execution_count": null,
   "id": "af5ea529-080f-4268-8e92-8aa4f38935b5",
   "metadata": {},
   "outputs": [],
   "source": [
    "\n",
    "\n",
    "#Translate topo data to start at target_mesh.lon_m[0]\n",
    "#Why/When?\n",
    "jllc,illc,status1=get_indices1D(topo_lons, topo_lats ,targ_lon[0,0] ,targ_lat[0,0])\n",
    "jurc,iurc,status2=get_indices1D(topo_lons, topo_lats ,targ_lon[0,-1],targ_lat[-1,0])\n",
    "if(not status1 or not status2):\n",
    "    print(' shifting topo data to start at target lon')\n",
    "    topo_lons = np.roll(topo_lons,-illc,axis=0) #Roll data longitude to right\n",
    "    topo_lons = np.where(topo_lons>=topo_lons[0] , topo_lons-360, topo_lons) #Rename (0,60) as (-300,-180)\n",
    "    topo_elvs = np.roll(topo_elvs,-illc,axis=1) #Roll data depth to the right by the same amount.\n",
    "\n",
    "print(' topography grid array shapes: ' , topo_lons.shape,topo_lats.shape)\n",
    "print(' topography longitude range:',topo_lons.min(),topo_lons.max())\n",
    "print(' topography longitude range:',topo_lons[0],topo_lons[-1000])\n",
    "print(' topography latitude range:',topo_lats.min(),topo_lats.max())\n",
    "print(' Is mesh uniform?', GMesh.is_mesh_uniform( topo_lons, topo_lats ) )\n",
    "### Partition the Target grid into non-intersecting blocks\n",
    "#This works only if the target mesh is \"regular\"! Niki: Find the mathematical buzzword for \"regular\"!!\n",
    "#Is this a regular mesh?\n",
    "# if( .NOT. is_mesh_regular() ) throw\n",
    "\n",
    "#Niki: Why 4,1 partition?\n",
    "xb=4\n",
    "yb=1\n",
    "lons=break_array_to_blocks(targ_lon,xb,yb)\n",
    "lats=break_array_to_blocks(targ_lat,xb,yb)\n",
    "\n",
    "#We must loop over the 4 partitions\n",
    "Hlist=[]\n",
    "Hstdlist=[]\n",
    "Hminlist=[]\n",
    "Hmaxlist=[]\n",
    "for part in range(0,xb):\n",
    "    lon = lons[part]\n",
    "    lat = lats[part]\n",
    "    h,hstd,hmin,hmax,hits = do_block(part,lon,lat,topo_lons,topo_lats,topo_elvs)\n",
    "    Hlist.append(h)\n",
    "    Hstdlist.append(hstd)\n",
    "    Hminlist.append(hmin)\n",
    "    Hmaxlist.append(hmax)\n",
    "\n",
    "    \n"
   ]
  },
  {
   "cell_type": "code",
   "execution_count": null,
   "id": "f6cad6ac-e4bf-432f-b6f8-f1846eaad51a",
   "metadata": {},
   "outputs": [],
   "source": []
  },
  {
   "cell_type": "code",
   "execution_count": null,
   "id": "156acaa8-fe8f-4b31-82dd-60a7793f231b",
   "metadata": {},
   "outputs": [],
   "source": []
  },
  {
   "cell_type": "code",
   "execution_count": null,
   "id": "f48bd18b-23dd-42e9-ad2e-6eb783b2f064",
   "metadata": {},
   "outputs": [],
   "source": []
  }
 ],
 "metadata": {
  "kernelspec": {
   "display_name": "Python 3",
   "language": "python",
   "name": "python3"
  },
  "language_info": {
   "codemirror_mode": {
    "name": "ipython",
    "version": 3
   },
   "file_extension": ".py",
   "mimetype": "text/x-python",
   "name": "python",
   "nbconvert_exporter": "python",
   "pygments_lexer": "ipython3",
   "version": "3.9.4"
  }
 },
 "nbformat": 4,
 "nbformat_minor": 5
}
